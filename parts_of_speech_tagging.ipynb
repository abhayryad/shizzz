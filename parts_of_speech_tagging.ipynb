{
  "nbformat": 4,
  "nbformat_minor": 0,
  "metadata": {
    "colab": {
      "provenance": [],
      "authorship_tag": "ABX9TyNktkSHg2APsEO7wu1+TN2H",
      "include_colab_link": true
    },
    "kernelspec": {
      "name": "python3",
      "display_name": "Python 3"
    },
    "language_info": {
      "name": "python"
    }
  },
  "cells": [
    {
      "cell_type": "markdown",
      "metadata": {
        "id": "view-in-github",
        "colab_type": "text"
      },
      "source": [
        "<a href=\"https://colab.research.google.com/github/abhayryad/shizzz/blob/main/parts_of_speech_tagging.ipynb\" target=\"_parent\"><img src=\"https://colab.research.google.com/assets/colab-badge.svg\" alt=\"Open In Colab\"/></a>"
      ]
    },
    {
      "cell_type": "markdown",
      "source": [
        "Parts of speech tagging"
      ],
      "metadata": {
        "id": "_UAhEpjveV_x"
      }
    },
    {
      "cell_type": "markdown",
      "metadata": {
        "id": "3767a47e"
      },
      "source": [
        "Here is a list of common parts of speech tags:\n",
        "\n",
        "*   **CC**: Coordinating conjunction\n",
        "*   **CD**: Cardinal number\n",
        "*   **DT**: Determiner\n",
        "*   **EX**: Existential `there`\n",
        "*   **FW**: Foreign word\n",
        "*   **IN**: Preposition or subordinating conjunction\n",
        "*   **JJ**: Adjective\n",
        "*   **JJR**: Adjective, comparative\n",
        "*   **JJS**: Adjective, superlative\n",
        "*   **LS**: List item marker\n",
        "*   **MD**: Modal\n",
        "*   **NN**: Noun, singular or mass\n",
        "*   **NNS**: Noun, plural\n",
        "*   **NNP**: Proper noun, singular\n",
        "*   **NNPS**: Proper noun, plural\n",
        "*   **PDT**: Predeterminer\n",
        "*   **POS**: Possessive ending\n",
        "*   **PRP**: Personal pronoun\n",
        "*   **PRP$**: Possessive pronoun\n",
        "*   **RB**: Adverb\n",
        "*   **RBR**: Adverb, comparative\n",
        "*   **RBS**: Adverb, superlative\n",
        "*   **RP**: Particle\n",
        "*   **SYM**: Symbol\n",
        "*   **TO**: `to`\n",
        "*   **UH**: Interjection\n",
        "*   **VB**: Verb, base form\n",
        "*   **VBD**: Verb, past tense\n",
        "*   **VBG**: Verb, gerund or present participle\n",
        "*   **VBN**: Verb, past participle\n",
        "*   **VBP**: Verb, non-3rd person singular present\n",
        "*   **VBZ**: Verb, 3rd person singular present\n",
        "*   **WDT**: Wh-determiner\n",
        "*   **WP**: Wh-pronoun\n",
        "*   **WP$**: Possessive wh-pronoun\n",
        "*   **WRB**: Wh-adverb"
      ]
    },
    {
      "cell_type": "code",
      "execution_count": 2,
      "metadata": {
        "id": "sRTTklLJeKNL"
      },
      "outputs": [],
      "source": [
        "speech = \"\"\"\n",
        "I am happy to join with you today in what will go down in history as the greatest demonstration for freedom in the history of our nation.\n",
        "\n",
        "Five score years ago, a great American, in whose symbolic shadow we stand today, signed the Emancipation Proclamation. This momentous decree came as a great beacon light of hope to millions of Negro slaves who had been seared in the flames of withering injustice. It came as a joyous daybreak to end the long night of their captivity.\n",
        "\n",
        "But one hundred years later, the Negro still is not free. One hundred years later, the life of the Negro is still sadly crippled by the manacles of segregation and the chains of discrimination. One hundred years later, the Negro lives on a lonely island of poverty in the midst of a vast ocean of material prosperity. One hundred years later, the Negro is still languishing in the corners of American society and finds himself an exile in his own land. And so we have come here today to dramatize a shameful condition.\n",
        "\n",
        "In a sense we've come to our nation's capital to cash a check. When the architects of our republic wrote the magnificent words of the Constitution and the Declaration of Independence, they were signing a promissory note to which every American was to fall heir. This note was a promise that all men, yes, black men as well as white men, would be guaranteed the 'unalienable Rights' of 'Life, Liberty and the pursuit of Happiness.' It is obvious today that America has defaulted on this promissory note, insofar as her citizens of color are concerned. Instead of honoring this sacred obligation, America has given the Negro people a bad check, a check which has come back marked 'insufficient funds.'\n",
        "\n",
        "But we refuse to believe that the bank of justice is bankrupt. We refuse to believe that there are insufficient funds in the great vaults of opportunity of this nation. And so, we have come to cash this check—a check that will give us upon demand the riches of freedom and the security of justice.\n",
        "\n",
        "We have also come to this hallowed spot to remind America of the fierce urgency of Now. This is no time to engage in the luxury of cooling off or to take the tranquilizing drug of gradualism. Now is the time to make real the promises of democracy. Now is the time to rise from the dark and desolate valley of segregation to the sunlit path of racial justice. Now is the time to lift our nation from the quicksands of racial injustice to the solid rock of brotherhood. Now is the time to make justice a reality for all of God's children.\n",
        "\n",
        "It would be fatal for the nation to overlook the urgency of the moment. This sweltering summer of the Negro's legitimate discontent will not pass until there is an invigorating autumn of freedom and equality. Nineteen sixty-three is not an end, but a beginning. And those who hope that the Negro needed to blow off steam and will now be content will have a rude awakening if the nation returns to business as usual. And there will be neither rest nor tranquility in America until the Negro is granted his citizenship rights. The whirlwinds of revolt will continue to shake the foundations of our nation until the bright day of justice emerges.\n",
        "\n",
        "But there is something that I must say to my people, who stand on the warm threshold which leads into the palace of justice: In the process of gaining our rightful place, we must not be guilty of wrongful deeds. Let us not seek to satisfy our thirst for freedom by drinking from the cup of bitterness and hatred. We must forever conduct our struggle on the high plane of dignity and discipline. We must not allow our creative protest to degenerate into physical violence. Again and again, we must rise to the majestic heights of meeting physical force with soul force.\n",
        "\n",
        "The marvelous new militancy which has engulfed the Negro community must not lead us to a distrust of all white people, for many of our white brothers, as evidenced by their presence here today, have come to realize that their destiny is tied up with our destiny. And they have come to realize that their freedom is inextricably bound to our freedom.\n",
        "\n",
        "We cannot walk alone.\n",
        "\n",
        "And as we walk, we must make the pledge that we shall always march ahead.\n",
        "\n",
        "We cannot turn back.\n",
        "\n",
        "There are those who are asking the devotees of civil rights, 'When will you be satisfied?' We can never be satisfied as long as the Negro is the victim of the unspeakable horrors of police brutality. We can never be satisfied as long as our bodies, heavy with the fatigue of travel, cannot gain lodging in the motels of the highways and the hotels of the cities. We cannot be satisfied as long as the negro's basic mobility is from a smaller ghetto to a larger one. We can never be satisfied as long as our children are stripped of their self-hood and robbed of their dignity by signs stating 'for whites only.' We cannot be satisfied as long as a Negro in Mississippi cannot vote and a Negro in New York believes he has nothing for which to vote. No, no, we are not satisfied, and we will not be satisfied until 'justice rolls down like waters, and righteousness like a mighty stream.'\n",
        "\n",
        "I am not unmindful that some of you have come here out of great trials and tribulations. Some of you have come fresh from narrow jail cells. And some of you have come from areas where your quest -- quest for freedom left you battered by the storms of persecution and staggered by the winds of police brutality. You have been the veterans of creative suffering. Continue to work with the faith that unearned suffering is redemptive. Go back to Mississippi, go back to Alabama, go back to South Carolina, go back to Georgia, go back to Louisiana, go back to the slums and ghettos of our northern cities, knowing that somehow this situation can and will be changed.\n",
        "\n",
        "Let us not wallow in the valley of despair, I say to you today, my friends.\n",
        "\n",
        "And so even though we face the difficulties of today and tomorrow, I still have a dream. It is a dream deeply rooted in the American dream.\n",
        "\n",
        "I have a dream that one day this nation will rise up and live out the true meaning of its creed: 'We hold these truths to be self-evident, that all men are created equal.'\n",
        "\n",
        "I have a dream that one day on the red hills of Georgia, the sons of former slaves and the sons of former slave owners will be able to sit down together at the table of brotherhood.\n",
        "\n",
        "I have a dream that one day even the state of Mississippi, a state sweltering with the heat of injustice, sweltering with the heat of oppression, will be transformed into an oasis of freedom and justice.\n",
        "\n",
        "I have a dream that my four little children will one day live in a nation where they will not be judged by the color of their skin but by the content of their character.\n",
        "\n",
        "I have a dream today!\n",
        "\n",
        "I have a dream that one day, down in Alabama, with its vicious racists, with its governor having his lips dripping with the words of interposition and nullification -- one day right there in Alabama little black boys and black girls will be able to join hands with little white boys and white girls as sisters and brothers.\n",
        "\n",
        "I have a dream today!\n",
        "\n",
        "I have a dream that one day every valley shall be exalted, and every hill and mountain shall be made low, the rough places will be made plain, and the crooked places will be made straight; 'and the glory of the Lord shall be revealed and all flesh shall see it together.'\n",
        "\n",
        "This is our hope, and this is the faith that I go back to the South with.\n",
        "\n",
        "With this faith, we will be able to hew out of the mountain of despair a stone of hope. With this faith, we will be able to transform the jangling discords of our nation into a beautiful symphony of brotherhood. With this faith, we will be able to work together, to pray together, to struggle together, to go to jail together, to stand up for freedom together, knowing that we will be free one day.\n",
        "\n",
        "And this will be the day -- this will be the day when all of God's children will be able to sing with new meaning:\n",
        "\n",
        "My country, 'tis of thee, sweet land of liberty, of thee I sing.\n",
        "Land where my fathers died, land of the Pilgrim's pride,\n",
        "From every mountainside, let freedom ring!\n",
        "\n",
        "And if America is to be a great nation, this must become true.\n",
        "\n",
        "And so let freedom ring from the prodigious hilltops of New Hampshire.\n",
        "Let freedom ring from the mighty mountains of New York.\n",
        "Let freedom ring from the heightening Alleghenies of Pennsylvania.\n",
        "Let freedom ring from the snow-capped Rockies of Colorado.\n",
        "Let freedom ring from the curvaceous slopes of California.\n",
        "But not only that: Let freedom ring from Stone Mountain of Georgia.\n",
        "Let freedom ring from Lookout Mountain of Tennessee.\n",
        "Let freedom ring from every hill and molehill of Mississippi.\n",
        "From every mountainside, let freedom ring.\n",
        "\n",
        "And when this happens, when we allow freedom ring, when we let it ring from every village and every hamlet, from every state and every city, we will be able to speed up that day when all of God's children, black men and white men, Jews and Gentiles, Protestants and Catholics, will be able to join hands and sing in the words of the old Negro spiritual:\n",
        "\n",
        "Free at last! Free at last!\n",
        "Thank God Almighty, we are free at last!\n",
        "\"\"\""
      ]
    },
    {
      "cell_type": "code",
      "source": [
        "nltk.download('punkt')\n",
        "nltk.download('punkt_tab')"
      ],
      "metadata": {
        "colab": {
          "base_uri": "https://localhost:8080/"
        },
        "id": "Yr2axoVRjaxg",
        "outputId": "3bf103dc-e0f5-4c0a-995c-8ee75c6feb36"
      },
      "execution_count": 10,
      "outputs": [
        {
          "output_type": "stream",
          "name": "stderr",
          "text": [
            "[nltk_data] Downloading package punkt to /root/nltk_data...\n",
            "[nltk_data]   Package punkt is already up-to-date!\n",
            "[nltk_data] Downloading package punkt_tab to /root/nltk_data...\n",
            "[nltk_data]   Unzipping tokenizers/punkt_tab.zip.\n"
          ]
        },
        {
          "output_type": "execute_result",
          "data": {
            "text/plain": [
              "True"
            ]
          },
          "metadata": {},
          "execution_count": 10
        }
      ]
    },
    {
      "cell_type": "code",
      "source": [
        "import nltk\n",
        "sentences= nltk.sent_tokenize(speech)"
      ],
      "metadata": {
        "id": "OE-J67FafYhd"
      },
      "execution_count": 11,
      "outputs": []
    },
    {
      "cell_type": "code",
      "source": [
        "sentences"
      ],
      "metadata": {
        "colab": {
          "base_uri": "https://localhost:8080/"
        },
        "id": "GxebvO3ci0zt",
        "outputId": "5a44fe76-3ce3-4257-8e10-5e18846e6f54"
      },
      "execution_count": 12,
      "outputs": [
        {
          "output_type": "execute_result",
          "data": {
            "text/plain": [
              "['\\nI am happy to join with you today in what will go down in history as the greatest demonstration for freedom in the history of our nation.',\n",
              " 'Five score years ago, a great American, in whose symbolic shadow we stand today, signed the Emancipation Proclamation.',\n",
              " 'This momentous decree came as a great beacon light of hope to millions of Negro slaves who had been seared in the flames of withering injustice.',\n",
              " 'It came as a joyous daybreak to end the long night of their captivity.',\n",
              " 'But one hundred years later, the Negro still is not free.',\n",
              " 'One hundred years later, the life of the Negro is still sadly crippled by the manacles of segregation and the chains of discrimination.',\n",
              " 'One hundred years later, the Negro lives on a lonely island of poverty in the midst of a vast ocean of material prosperity.',\n",
              " 'One hundred years later, the Negro is still languishing in the corners of American society and finds himself an exile in his own land.',\n",
              " 'And so we have come here today to dramatize a shameful condition.',\n",
              " \"In a sense we've come to our nation's capital to cash a check.\",\n",
              " 'When the architects of our republic wrote the magnificent words of the Constitution and the Declaration of Independence, they were signing a promissory note to which every American was to fall heir.',\n",
              " \"This note was a promise that all men, yes, black men as well as white men, would be guaranteed the 'unalienable Rights' of 'Life, Liberty and the pursuit of Happiness.'\",\n",
              " 'It is obvious today that America has defaulted on this promissory note, insofar as her citizens of color are concerned.',\n",
              " \"Instead of honoring this sacred obligation, America has given the Negro people a bad check, a check which has come back marked 'insufficient funds.'\",\n",
              " 'But we refuse to believe that the bank of justice is bankrupt.',\n",
              " 'We refuse to believe that there are insufficient funds in the great vaults of opportunity of this nation.',\n",
              " 'And so, we have come to cash this check—a check that will give us upon demand the riches of freedom and the security of justice.',\n",
              " 'We have also come to this hallowed spot to remind America of the fierce urgency of Now.',\n",
              " 'This is no time to engage in the luxury of cooling off or to take the tranquilizing drug of gradualism.',\n",
              " 'Now is the time to make real the promises of democracy.',\n",
              " 'Now is the time to rise from the dark and desolate valley of segregation to the sunlit path of racial justice.',\n",
              " 'Now is the time to lift our nation from the quicksands of racial injustice to the solid rock of brotherhood.',\n",
              " \"Now is the time to make justice a reality for all of God's children.\",\n",
              " 'It would be fatal for the nation to overlook the urgency of the moment.',\n",
              " \"This sweltering summer of the Negro's legitimate discontent will not pass until there is an invigorating autumn of freedom and equality.\",\n",
              " 'Nineteen sixty-three is not an end, but a beginning.',\n",
              " 'And those who hope that the Negro needed to blow off steam and will now be content will have a rude awakening if the nation returns to business as usual.',\n",
              " 'And there will be neither rest nor tranquility in America until the Negro is granted his citizenship rights.',\n",
              " 'The whirlwinds of revolt will continue to shake the foundations of our nation until the bright day of justice emerges.',\n",
              " 'But there is something that I must say to my people, who stand on the warm threshold which leads into the palace of justice: In the process of gaining our rightful place, we must not be guilty of wrongful deeds.',\n",
              " 'Let us not seek to satisfy our thirst for freedom by drinking from the cup of bitterness and hatred.',\n",
              " 'We must forever conduct our struggle on the high plane of dignity and discipline.',\n",
              " 'We must not allow our creative protest to degenerate into physical violence.',\n",
              " 'Again and again, we must rise to the majestic heights of meeting physical force with soul force.',\n",
              " 'The marvelous new militancy which has engulfed the Negro community must not lead us to a distrust of all white people, for many of our white brothers, as evidenced by their presence here today, have come to realize that their destiny is tied up with our destiny.',\n",
              " 'And they have come to realize that their freedom is inextricably bound to our freedom.',\n",
              " 'We cannot walk alone.',\n",
              " 'And as we walk, we must make the pledge that we shall always march ahead.',\n",
              " 'We cannot turn back.',\n",
              " \"There are those who are asking the devotees of civil rights, 'When will you be satisfied?'\",\n",
              " 'We can never be satisfied as long as the Negro is the victim of the unspeakable horrors of police brutality.',\n",
              " 'We can never be satisfied as long as our bodies, heavy with the fatigue of travel, cannot gain lodging in the motels of the highways and the hotels of the cities.',\n",
              " \"We cannot be satisfied as long as the negro's basic mobility is from a smaller ghetto to a larger one.\",\n",
              " \"We can never be satisfied as long as our children are stripped of their self-hood and robbed of their dignity by signs stating 'for whites only.'\",\n",
              " 'We cannot be satisfied as long as a Negro in Mississippi cannot vote and a Negro in New York believes he has nothing for which to vote.',\n",
              " \"No, no, we are not satisfied, and we will not be satisfied until 'justice rolls down like waters, and righteousness like a mighty stream.'\",\n",
              " 'I am not unmindful that some of you have come here out of great trials and tribulations.',\n",
              " 'Some of you have come fresh from narrow jail cells.',\n",
              " 'And some of you have come from areas where your quest -- quest for freedom left you battered by the storms of persecution and staggered by the winds of police brutality.',\n",
              " 'You have been the veterans of creative suffering.',\n",
              " 'Continue to work with the faith that unearned suffering is redemptive.',\n",
              " 'Go back to Mississippi, go back to Alabama, go back to South Carolina, go back to Georgia, go back to Louisiana, go back to the slums and ghettos of our northern cities, knowing that somehow this situation can and will be changed.',\n",
              " 'Let us not wallow in the valley of despair, I say to you today, my friends.',\n",
              " 'And so even though we face the difficulties of today and tomorrow, I still have a dream.',\n",
              " 'It is a dream deeply rooted in the American dream.',\n",
              " \"I have a dream that one day this nation will rise up and live out the true meaning of its creed: 'We hold these truths to be self-evident, that all men are created equal.'\",\n",
              " 'I have a dream that one day on the red hills of Georgia, the sons of former slaves and the sons of former slave owners will be able to sit down together at the table of brotherhood.',\n",
              " 'I have a dream that one day even the state of Mississippi, a state sweltering with the heat of injustice, sweltering with the heat of oppression, will be transformed into an oasis of freedom and justice.',\n",
              " 'I have a dream that my four little children will one day live in a nation where they will not be judged by the color of their skin but by the content of their character.',\n",
              " 'I have a dream today!',\n",
              " 'I have a dream that one day, down in Alabama, with its vicious racists, with its governor having his lips dripping with the words of interposition and nullification -- one day right there in Alabama little black boys and black girls will be able to join hands with little white boys and white girls as sisters and brothers.',\n",
              " 'I have a dream today!',\n",
              " \"I have a dream that one day every valley shall be exalted, and every hill and mountain shall be made low, the rough places will be made plain, and the crooked places will be made straight; 'and the glory of the Lord shall be revealed and all flesh shall see it together.'\",\n",
              " 'This is our hope, and this is the faith that I go back to the South with.',\n",
              " 'With this faith, we will be able to hew out of the mountain of despair a stone of hope.',\n",
              " 'With this faith, we will be able to transform the jangling discords of our nation into a beautiful symphony of brotherhood.',\n",
              " 'With this faith, we will be able to work together, to pray together, to struggle together, to go to jail together, to stand up for freedom together, knowing that we will be free one day.',\n",
              " \"And this will be the day -- this will be the day when all of God's children will be able to sing with new meaning:\\n\\nMy country, 'tis of thee, sweet land of liberty, of thee I sing.\",\n",
              " \"Land where my fathers died, land of the Pilgrim's pride,\\nFrom every mountainside, let freedom ring!\",\n",
              " 'And if America is to be a great nation, this must become true.',\n",
              " 'And so let freedom ring from the prodigious hilltops of New Hampshire.',\n",
              " 'Let freedom ring from the mighty mountains of New York.',\n",
              " 'Let freedom ring from the heightening Alleghenies of Pennsylvania.',\n",
              " 'Let freedom ring from the snow-capped Rockies of Colorado.',\n",
              " 'Let freedom ring from the curvaceous slopes of California.',\n",
              " 'But not only that: Let freedom ring from Stone Mountain of Georgia.',\n",
              " 'Let freedom ring from Lookout Mountain of Tennessee.',\n",
              " 'Let freedom ring from every hill and molehill of Mississippi.',\n",
              " 'From every mountainside, let freedom ring.',\n",
              " \"And when this happens, when we allow freedom ring, when we let it ring from every village and every hamlet, from every state and every city, we will be able to speed up that day when all of God's children, black men and white men, Jews and Gentiles, Protestants and Catholics, will be able to join hands and sing in the words of the old Negro spiritual:\\n\\nFree at last!\",\n",
              " 'Free at last!',\n",
              " 'Thank God Almighty, we are free at last!']"
            ]
          },
          "metadata": {},
          "execution_count": 12
        }
      ]
    },
    {
      "cell_type": "code",
      "source": [
        "import nltk\n",
        "nltk.download('averaged_perceptron_tagger')\n",
        "nltk.download('averaged_perceptron_tagger_eng')\n",
        "nltk.download('punkt')\n",
        "nltk.download('stopwords')\n",
        "from nltk.corpus import stopwords"
      ],
      "metadata": {
        "colab": {
          "base_uri": "https://localhost:8080/"
        },
        "id": "WCvfavOFmOIx",
        "outputId": "e5a7a4b2-f3cf-4cb4-f139-896229311b2d"
      },
      "execution_count": 19,
      "outputs": [
        {
          "output_type": "stream",
          "name": "stderr",
          "text": [
            "[nltk_data] Downloading package averaged_perceptron_tagger to\n",
            "[nltk_data]     /root/nltk_data...\n",
            "[nltk_data]   Package averaged_perceptron_tagger is already up-to-\n",
            "[nltk_data]       date!\n",
            "[nltk_data] Downloading package averaged_perceptron_tagger_eng to\n",
            "[nltk_data]     /root/nltk_data...\n",
            "[nltk_data]   Unzipping taggers/averaged_perceptron_tagger_eng.zip.\n",
            "[nltk_data] Downloading package punkt to /root/nltk_data...\n",
            "[nltk_data]   Package punkt is already up-to-date!\n",
            "[nltk_data] Downloading package stopwords to /root/nltk_data...\n",
            "[nltk_data]   Package stopwords is already up-to-date!\n"
          ]
        }
      ]
    },
    {
      "cell_type": "code",
      "source": [
        "## we will find the pos tag\n",
        "for i in range(len(sentences)):\n",
        "  words=nltk.word_tokenize(sentences[i])\n",
        "  words=[word for word in words if word not in set(stopwords.words('english'))]\n",
        "  pos_tag=nltk.pos_tag(words)\n",
        "  print(pos_tag)"
      ],
      "metadata": {
        "colab": {
          "base_uri": "https://localhost:8080/"
        },
        "id": "dapiD61PlsIx",
        "outputId": "790e1707-62cd-4718-99b0-c1fee1ef7af0"
      },
      "execution_count": 20,
      "outputs": [
        {
          "output_type": "stream",
          "name": "stdout",
          "text": [
            "[('I', 'PRP'), ('happy', 'JJ'), ('join', 'NN'), ('today', 'NN'), ('go', 'VBP'), ('history', 'NN'), ('greatest', 'JJS'), ('demonstration', 'NN'), ('freedom', 'NN'), ('history', 'NN'), ('nation', 'NN'), ('.', '.')]\n",
            "[('Five', 'CD'), ('score', 'NN'), ('years', 'NNS'), ('ago', 'RB'), (',', ','), ('great', 'JJ'), ('American', 'JJ'), (',', ','), ('whose', 'WP$'), ('symbolic', 'JJ'), ('shadow', 'NN'), ('stand', 'NN'), ('today', 'NN'), (',', ','), ('signed', 'VBN'), ('Emancipation', 'NNP'), ('Proclamation', 'NNP'), ('.', '.')]\n",
            "[('This', 'DT'), ('momentous', 'JJ'), ('decree', 'NN'), ('came', 'VBD'), ('great', 'JJ'), ('beacon', 'NN'), ('light', 'VBD'), ('hope', 'NN'), ('millions', 'NNS'), ('Negro', 'NNP'), ('slaves', 'NNS'), ('seared', 'VBD'), ('flames', 'NNS'), ('withering', 'VBG'), ('injustice', 'NN'), ('.', '.')]\n",
            "[('It', 'PRP'), ('came', 'VBD'), ('joyous', 'JJ'), ('daybreak', 'JJ'), ('end', 'NN'), ('long', 'RB'), ('night', 'NN'), ('captivity', 'NN'), ('.', '.')]\n",
            "[('But', 'CC'), ('one', 'CD'), ('hundred', 'CD'), ('years', 'NNS'), ('later', 'RB'), (',', ','), ('Negro', 'NNP'), ('still', 'RB'), ('free', 'JJ'), ('.', '.')]\n",
            "[('One', 'CD'), ('hundred', 'CD'), ('years', 'NNS'), ('later', 'RB'), (',', ','), ('life', 'NN'), ('Negro', 'NNP'), ('still', 'RB'), ('sadly', 'RB'), ('crippled', 'JJ'), ('manacles', 'NNS'), ('segregation', 'NN'), ('chains', 'NNS'), ('discrimination', 'NN'), ('.', '.')]\n",
            "[('One', 'CD'), ('hundred', 'CD'), ('years', 'NNS'), ('later', 'RB'), (',', ','), ('Negro', 'NNP'), ('lives', 'VBZ'), ('lonely', 'RB'), ('island', 'JJ'), ('poverty', 'NN'), ('midst', 'NN'), ('vast', 'JJ'), ('ocean', 'JJ'), ('material', 'NN'), ('prosperity', 'NN'), ('.', '.')]\n",
            "[('One', 'CD'), ('hundred', 'CD'), ('years', 'NNS'), ('later', 'RB'), (',', ','), ('Negro', 'NNP'), ('still', 'RB'), ('languishing', 'VBG'), ('corners', 'NNS'), ('American', 'JJ'), ('society', 'NN'), ('finds', 'NNS'), ('exile', 'JJ'), ('land', 'NN'), ('.', '.')]\n",
            "[('And', 'CC'), ('come', 'VB'), ('today', 'NN'), ('dramatize', 'VB'), ('shameful', 'JJ'), ('condition', 'NN'), ('.', '.')]\n",
            "[('In', 'IN'), ('sense', 'NN'), (\"'ve\", 'VBP'), ('come', 'VBN'), ('nation', 'NN'), (\"'s\", 'POS'), ('capital', 'NN'), ('cash', 'NN'), ('check', 'NN'), ('.', '.')]\n",
            "[('When', 'WRB'), ('architects', 'NNS'), ('republic', 'VBP'), ('wrote', 'VBD'), ('magnificent', 'JJ'), ('words', 'NNS'), ('Constitution', 'NNP'), ('Declaration', 'NNP'), ('Independence', 'NNP'), (',', ','), ('signing', 'VBG'), ('promissory', 'JJ'), ('note', 'NN'), ('every', 'DT'), ('American', 'JJ'), ('fall', 'NN'), ('heir', 'NN'), ('.', '.')]\n",
            "[('This', 'DT'), ('note', 'NN'), ('promise', 'NN'), ('men', 'NNS'), (',', ','), ('yes', 'UH'), (',', ','), ('black', 'JJ'), ('men', 'NNS'), ('well', 'RB'), ('white', 'JJ'), ('men', 'NNS'), (',', ','), ('would', 'MD'), ('guaranteed', 'VB'), (\"'unalienable\", 'JJ'), ('Rights', 'NNPS'), (\"'\", 'POS'), (\"'Life\", 'NNS'), (',', ','), ('Liberty', 'NNP'), ('pursuit', 'NN'), ('Happiness', 'NNP'), ('.', '.'), (\"'\", \"''\")]\n",
            "[('It', 'PRP'), ('obvious', 'JJ'), ('today', 'NN'), ('America', 'NNP'), ('defaulted', 'VBD'), ('promissory', 'JJ'), ('note', 'NN'), (',', ','), ('insofar', 'NN'), ('citizens', 'NNS'), ('color', 'NN'), ('concerned', 'VBN'), ('.', '.')]\n",
            "[('Instead', 'RB'), ('honoring', 'VBG'), ('sacred', 'JJ'), ('obligation', 'NN'), (',', ','), ('America', 'NNP'), ('given', 'VBN'), ('Negro', 'NNP'), ('people', 'NNS'), ('bad', 'JJ'), ('check', 'NN'), (',', ','), ('check', 'VB'), ('come', 'VB'), ('back', 'RB'), ('marked', 'VBN'), (\"'insufficient\", 'NN'), ('funds', 'NNS'), ('.', '.'), (\"'\", \"''\")]\n",
            "[('But', 'CC'), ('refuse', 'VB'), ('believe', 'VBP'), ('bank', 'NN'), ('justice', 'NN'), ('bankrupt', 'NN'), ('.', '.')]\n",
            "[('We', 'PRP'), ('refuse', 'VBP'), ('believe', 'JJ'), ('insufficient', 'NN'), ('funds', 'NNS'), ('great', 'JJ'), ('vaults', 'NNS'), ('opportunity', 'NN'), ('nation', 'NN'), ('.', '.')]\n",
            "[('And', 'CC'), (',', ','), ('come', 'VB'), ('cash', 'NN'), ('check—a', 'NN'), ('check', 'NN'), ('give', 'VBP'), ('us', 'PRP'), ('upon', 'IN'), ('demand', 'NN'), ('riches', 'NNS'), ('freedom', 'VBP'), ('security', 'NN'), ('justice', 'NN'), ('.', '.')]\n",
            "[('We', 'PRP'), ('also', 'RB'), ('come', 'VBP'), ('hallowed', 'VBN'), ('spot', 'NN'), ('remind', 'NN'), ('America', 'NNP'), ('fierce', 'JJ'), ('urgency', 'NN'), ('Now', 'RB'), ('.', '.')]\n",
            "[('This', 'DT'), ('time', 'NN'), ('engage', 'VB'), ('luxury', 'NN'), ('cooling', 'VBG'), ('take', 'VB'), ('tranquilizing', 'VBG'), ('drug', 'NN'), ('gradualism', 'NN'), ('.', '.')]\n",
            "[('Now', 'RB'), ('time', 'NN'), ('make', 'VB'), ('real', 'JJ'), ('promises', 'NNS'), ('democracy', 'NN'), ('.', '.')]\n",
            "[('Now', 'RB'), ('time', 'NN'), ('rise', 'NN'), ('dark', 'NN'), ('desolate', 'NN'), ('valley', 'NN'), ('segregation', 'NN'), ('sunlit', 'VBD'), ('path', 'JJ'), ('racial', 'JJ'), ('justice', 'NN'), ('.', '.')]\n",
            "[('Now', 'RB'), ('time', 'NN'), ('lift', 'JJ'), ('nation', 'NN'), ('quicksands', 'VBZ'), ('racial', 'JJ'), ('injustice', 'NN'), ('solid', 'JJ'), ('rock', 'NN'), ('brotherhood', 'NN'), ('.', '.')]\n",
            "[('Now', 'RB'), ('time', 'NN'), ('make', 'VB'), ('justice', 'NN'), ('reality', 'NN'), ('God', 'NNP'), (\"'s\", 'POS'), ('children', 'NNS'), ('.', '.')]\n",
            "[('It', 'PRP'), ('would', 'MD'), ('fatal', 'VB'), ('nation', 'NN'), ('overlook', 'NN'), ('urgency', 'NN'), ('moment', 'NN'), ('.', '.')]\n",
            "[('This', 'DT'), ('sweltering', 'VBG'), ('summer', 'NN'), ('Negro', 'NNP'), (\"'s\", 'POS'), ('legitimate', 'JJ'), ('discontent', 'NN'), ('pass', 'NN'), ('invigorating', 'VBG'), ('autumn', 'NN'), ('freedom', 'NN'), ('equality', 'NN'), ('.', '.')]\n",
            "[('Nineteen', 'NNP'), ('sixty-three', 'JJ'), ('end', 'NN'), (',', ','), ('beginning', 'VBG'), ('.', '.')]\n",
            "[('And', 'CC'), ('hope', 'VB'), ('Negro', 'NNP'), ('needed', 'VBD'), ('blow', 'JJ'), ('steam', 'NN'), ('content', 'NN'), ('rude', 'NN'), ('awakening', 'VBG'), ('nation', 'NN'), ('returns', 'NNS'), ('business', 'NN'), ('usual', 'JJ'), ('.', '.')]\n",
            "[('And', 'CC'), ('neither', 'DT'), ('rest', 'NN'), ('tranquility', 'NN'), ('America', 'NNP'), ('Negro', 'NNP'), ('granted', 'VBD'), ('citizenship', 'NN'), ('rights', 'NNS'), ('.', '.')]\n",
            "[('The', 'DT'), ('whirlwinds', 'NNS'), ('revolt', 'VBP'), ('continue', 'VBP'), ('shake', 'JJ'), ('foundations', 'NNS'), ('nation', 'NN'), ('bright', 'VBD'), ('day', 'NN'), ('justice', 'NN'), ('emerges', 'NNS'), ('.', '.')]\n",
            "[('But', 'CC'), ('something', 'NN'), ('I', 'PRP'), ('must', 'MD'), ('say', 'VB'), ('people', 'NNS'), (',', ','), ('stand', 'VBP'), ('warm', 'JJ'), ('threshold', 'NN'), ('leads', 'VBZ'), ('palace', 'JJ'), ('justice', 'NN'), (':', ':'), ('In', 'IN'), ('process', 'NN'), ('gaining', 'VBG'), ('rightful', 'JJ'), ('place', 'NN'), (',', ','), ('must', 'MD'), ('guilty', 'JJ'), ('wrongful', 'JJ'), ('deeds', 'NNS'), ('.', '.')]\n",
            "[('Let', 'VB'), ('us', 'PRP'), ('seek', 'VB'), ('satisfy', 'NN'), ('thirst', 'NN'), ('freedom', 'NN'), ('drinking', 'VBG'), ('cup', 'NN'), ('bitterness', 'NN'), ('hatred', 'VBD'), ('.', '.')]\n",
            "[('We', 'PRP'), ('must', 'MD'), ('forever', 'VB'), ('conduct', 'NN'), ('struggle', 'NN'), ('high', 'JJ'), ('plane', 'NN'), ('dignity', 'NN'), ('discipline', 'NN'), ('.', '.')]\n",
            "[('We', 'PRP'), ('must', 'MD'), ('allow', 'VB'), ('creative', 'JJ'), ('protest', 'NN'), ('degenerate', 'NN'), ('physical', 'JJ'), ('violence', 'NN'), ('.', '.')]\n",
            "[('Again', 'NNP'), (',', ','), ('must', 'MD'), ('rise', 'VB'), ('majestic', 'JJ'), ('heights', 'NNS'), ('meeting', 'VBG'), ('physical', 'JJ'), ('force', 'NN'), ('soul', 'NN'), ('force', 'NN'), ('.', '.')]\n",
            "[('The', 'DT'), ('marvelous', 'JJ'), ('new', 'JJ'), ('militancy', 'NN'), ('engulfed', 'VBD'), ('Negro', 'NNP'), ('community', 'NN'), ('must', 'MD'), ('lead', 'VB'), ('us', 'PRP'), ('distrust', 'JJ'), ('white', 'JJ'), ('people', 'NNS'), (',', ','), ('many', 'JJ'), ('white', 'JJ'), ('brothers', 'NNS'), (',', ','), ('evidenced', 'VBD'), ('presence', 'NN'), ('today', 'NN'), (',', ','), ('come', 'VB'), ('realize', 'NN'), ('destiny', 'NN'), ('tied', 'VBN'), ('destiny', 'NN'), ('.', '.')]\n",
            "[('And', 'CC'), ('come', 'VB'), ('realize', 'NN'), ('freedom', 'NN'), ('inextricably', 'RB'), ('bound', 'VBD'), ('freedom', 'NN'), ('.', '.')]\n",
            "[('We', 'PRP'), ('walk', 'VBP'), ('alone', 'RB'), ('.', '.')]\n",
            "[('And', 'CC'), ('walk', 'NN'), (',', ','), ('must', 'MD'), ('make', 'VB'), ('pledge', 'NN'), ('shall', 'MD'), ('always', 'RB'), ('march', 'VB'), ('ahead', 'RB'), ('.', '.')]\n",
            "[('We', 'PRP'), ('turn', 'VBP'), ('back', 'RB'), ('.', '.')]\n",
            "[('There', 'EX'), ('asking', 'VBG'), ('devotees', 'NNS'), ('civil', 'JJ'), ('rights', 'NNS'), (',', ','), (\"'When\", \"''\"), ('satisfied', 'VBD'), ('?', '.'), (\"'\", \"''\")]\n",
            "[('We', 'PRP'), ('never', 'RB'), ('satisfied', 'VBD'), ('long', 'JJ'), ('Negro', 'NNP'), ('victim', 'NN'), ('unspeakable', 'JJ'), ('horrors', 'NNS'), ('police', 'VBP'), ('brutality', 'NN'), ('.', '.')]\n",
            "[('We', 'PRP'), ('never', 'RB'), ('satisfied', 'VBD'), ('long', 'JJ'), ('bodies', 'NNS'), (',', ','), ('heavy', 'JJ'), ('fatigue', 'NN'), ('travel', 'NN'), (',', ','), ('gain', 'NN'), ('lodging', 'NN'), ('motels', 'NNS'), ('highways', 'VBP'), ('hotels', 'JJ'), ('cities', 'NNS'), ('.', '.')]\n",
            "[('We', 'PRP'), ('satisfied', 'VBD'), ('long', 'JJ'), ('negro', 'NN'), (\"'s\", 'POS'), ('basic', 'JJ'), ('mobility', 'NN'), ('smaller', 'JJR'), ('ghetto', 'NN'), ('larger', 'JJR'), ('one', 'CD'), ('.', '.')]\n",
            "[('We', 'PRP'), ('never', 'RB'), ('satisfied', 'VBD'), ('long', 'JJ'), ('children', 'NNS'), ('stripped', 'VBD'), ('self-hood', 'NN'), ('robbed', 'NN'), ('dignity', 'NN'), ('signs', 'NNS'), ('stating', 'VBG'), (\"'for\", 'CD'), ('whites', 'NNS'), ('.', '.'), (\"'\", \"''\")]\n",
            "[('We', 'PRP'), ('satisfied', 'VBD'), ('long', 'JJ'), ('Negro', 'NNP'), ('Mississippi', 'NNP'), ('vote', 'NN'), ('Negro', 'NNP'), ('New', 'NNP'), ('York', 'NNP'), ('believes', 'VBZ'), ('nothing', 'NN'), ('vote', 'NN'), ('.', '.')]\n",
            "[('No', 'DT'), (',', ','), (',', ','), ('satisfied', 'VBD'), (',', ','), ('satisfied', 'JJ'), (\"'justice\", 'POS'), ('rolls', 'NNS'), ('like', 'IN'), ('waters', 'NNS'), (',', ','), ('righteousness', 'NN'), ('like', 'IN'), ('mighty', 'NN'), ('stream', 'NN'), ('.', '.'), (\"'\", \"''\")]\n",
            "[('I', 'PRP'), ('unmindful', 'JJ'), ('come', 'VBP'), ('great', 'JJ'), ('trials', 'NNS'), ('tribulations', 'NNS'), ('.', '.')]\n",
            "[('Some', 'DT'), ('come', 'VBP'), ('fresh', 'JJ'), ('narrow', 'JJ'), ('jail', 'NN'), ('cells', 'NNS'), ('.', '.')]\n",
            "[('And', 'CC'), ('come', 'VB'), ('areas', 'NNS'), ('quest', 'JJS'), ('--', ':'), ('quest', 'JJS'), ('freedom', 'NN'), ('left', 'VBD'), ('battered', 'JJ'), ('storms', 'NNS'), ('persecution', 'NN'), ('staggered', 'VBD'), ('winds', 'NNS'), ('police', 'JJ'), ('brutality', 'NN'), ('.', '.')]\n",
            "[('You', 'PRP'), ('veterans', 'VBP'), ('creative', 'JJ'), ('suffering', 'NN'), ('.', '.')]\n",
            "[('Continue', 'NNP'), ('work', 'NN'), ('faith', 'NN'), ('unearned', 'JJ'), ('suffering', 'VBG'), ('redemptive', 'NN'), ('.', '.')]\n",
            "[('Go', 'NNP'), ('back', 'RB'), ('Mississippi', 'NNP'), (',', ','), ('go', 'VB'), ('back', 'RB'), ('Alabama', 'NNP'), (',', ','), ('go', 'VB'), ('back', 'RB'), ('South', 'NNP'), ('Carolina', 'NNP'), (',', ','), ('go', 'VB'), ('back', 'RB'), ('Georgia', 'NNP'), (',', ','), ('go', 'VB'), ('back', 'RB'), ('Louisiana', 'NNP'), (',', ','), ('go', 'VB'), ('back', 'RB'), ('slums', 'JJ'), ('ghettos', 'NN'), ('northern', 'JJ'), ('cities', 'NNS'), (',', ','), ('knowing', 'VBG'), ('somehow', 'NN'), ('situation', 'NN'), ('changed', 'VBD'), ('.', '.')]\n",
            "[('Let', 'VB'), ('us', 'PRP'), ('wallow', 'VB'), ('valley', 'NN'), ('despair', 'NN'), (',', ','), ('I', 'PRP'), ('say', 'VBP'), ('today', 'NN'), (',', ','), ('friends', 'NNS'), ('.', '.')]\n",
            "[('And', 'CC'), ('even', 'RB'), ('though', 'IN'), ('face', 'NN'), ('difficulties', 'NNS'), ('today', 'NN'), ('tomorrow', 'NN'), (',', ','), ('I', 'PRP'), ('still', 'RB'), ('dream', 'VBP'), ('.', '.')]\n",
            "[('It', 'PRP'), ('dream', 'VBZ'), ('deeply', 'RB'), ('rooted', 'JJ'), ('American', 'JJ'), ('dream', 'NN'), ('.', '.')]\n",
            "[('I', 'PRP'), ('dream', 'VBP'), ('one', 'CD'), ('day', 'NN'), ('nation', 'NN'), ('rise', 'VB'), ('live', 'JJ'), ('true', 'JJ'), ('meaning', 'VBG'), ('creed', 'NN'), (':', ':'), (\"'We\", 'CC'), ('hold', 'VB'), ('truths', 'JJ'), ('self-evident', 'JJ'), (',', ','), ('men', 'NNS'), ('created', 'VBD'), ('equal', 'JJ'), ('.', '.'), (\"'\", \"''\")]\n",
            "[('I', 'PRP'), ('dream', 'VBP'), ('one', 'CD'), ('day', 'NN'), ('red', 'JJ'), ('hills', 'NNS'), ('Georgia', 'NNP'), (',', ','), ('sons', 'NNS'), ('former', 'JJ'), ('slaves', 'NNS'), ('sons', 'NNS'), ('former', 'JJ'), ('slave', 'VBP'), ('owners', 'NNS'), ('able', 'JJ'), ('sit', 'NN'), ('together', 'RB'), ('table', 'JJ'), ('brotherhood', 'NN'), ('.', '.')]\n",
            "[('I', 'PRP'), ('dream', 'VBP'), ('one', 'CD'), ('day', 'NN'), ('even', 'RB'), ('state', 'NN'), ('Mississippi', 'NNP'), (',', ','), ('state', 'NN'), ('sweltering', 'NN'), ('heat', 'NN'), ('injustice', 'NN'), (',', ','), ('sweltering', 'VBG'), ('heat', 'NN'), ('oppression', 'NN'), (',', ','), ('transformed', 'VBD'), ('oasis', 'NN'), ('freedom', 'NN'), ('justice', 'NN'), ('.', '.')]\n",
            "[('I', 'PRP'), ('dream', 'VBP'), ('four', 'CD'), ('little', 'JJ'), ('children', 'NNS'), ('one', 'CD'), ('day', 'NN'), ('live', 'JJ'), ('nation', 'NN'), ('judged', 'VBD'), ('color', 'NN'), ('skin', 'NN'), ('content', 'NN'), ('character', 'NN'), ('.', '.')]\n",
            "[('I', 'PRP'), ('dream', 'VBP'), ('today', 'NN'), ('!', '.')]\n",
            "[('I', 'PRP'), ('dream', 'VBP'), ('one', 'CD'), ('day', 'NN'), (',', ','), ('Alabama', 'NNP'), (',', ','), ('vicious', 'JJ'), ('racists', 'NNS'), (',', ','), ('governor', 'NN'), ('lips', 'NNS'), ('dripping', 'VBG'), ('words', 'NNS'), ('interposition', 'NN'), ('nullification', 'NN'), ('--', ':'), ('one', 'CD'), ('day', 'NN'), ('right', 'JJ'), ('Alabama', 'NNP'), ('little', 'JJ'), ('black', 'JJ'), ('boys', 'NNS'), ('black', 'JJ'), ('girls', 'NNS'), ('able', 'JJ'), ('join', 'NN'), ('hands', 'VBZ'), ('little', 'JJ'), ('white', 'JJ'), ('boys', 'NNS'), ('white', 'JJ'), ('girls', 'NNS'), ('sisters', 'NNS'), ('brothers', 'NNS'), ('.', '.')]\n",
            "[('I', 'PRP'), ('dream', 'VBP'), ('today', 'NN'), ('!', '.')]\n",
            "[('I', 'PRP'), ('dream', 'VBP'), ('one', 'CD'), ('day', 'NN'), ('every', 'DT'), ('valley', 'NN'), ('shall', 'MD'), ('exalted', 'VBN'), (',', ','), ('every', 'DT'), ('hill', 'NN'), ('mountain', 'NN'), ('shall', 'MD'), ('made', 'VB'), ('low', 'JJ'), (',', ','), ('rough', 'JJ'), ('places', 'NNS'), ('made', 'VBN'), ('plain', 'NN'), (',', ','), ('crooked', 'VBD'), ('places', 'NNS'), ('made', 'VBN'), ('straight', 'RB'), (';', ':'), (\"'and\", 'CD'), ('glory', 'NN'), ('Lord', 'NNP'), ('shall', 'MD'), ('revealed', 'VB'), ('flesh', 'JJ'), ('shall', 'MD'), ('see', 'VB'), ('together', 'RB'), ('.', '.'), (\"'\", \"''\")]\n",
            "[('This', 'DT'), ('hope', 'NN'), (',', ','), ('faith', 'NN'), ('I', 'PRP'), ('go', 'VBP'), ('back', 'RB'), ('South', 'NNP'), ('.', '.')]\n",
            "[('With', 'IN'), ('faith', 'NN'), (',', ','), ('able', 'JJ'), ('hew', 'NN'), ('mountain', 'NN'), ('despair', 'NN'), ('stone', 'NN'), ('hope', 'NN'), ('.', '.')]\n",
            "[('With', 'IN'), ('faith', 'NN'), (',', ','), ('able', 'JJ'), ('transform', 'NN'), ('jangling', 'NN'), ('discords', 'NNS'), ('nation', 'NN'), ('beautiful', 'JJ'), ('symphony', 'NN'), ('brotherhood', 'NN'), ('.', '.')]\n",
            "[('With', 'IN'), ('faith', 'NN'), (',', ','), ('able', 'JJ'), ('work', 'NN'), ('together', 'RB'), (',', ','), ('pray', 'NN'), ('together', 'RB'), (',', ','), ('struggle', 'NN'), ('together', 'RB'), (',', ','), ('go', 'VB'), ('jail', 'NN'), ('together', 'RB'), (',', ','), ('stand', 'VBP'), ('freedom', 'NN'), ('together', 'RB'), (',', ','), ('knowing', 'VBG'), ('free', 'JJ'), ('one', 'CD'), ('day', 'NN'), ('.', '.')]\n",
            "[('And', 'CC'), ('day', 'NN'), ('--', ':'), ('day', 'NN'), ('God', 'NNP'), (\"'s\", 'POS'), ('children', 'NNS'), ('able', 'JJ'), ('sing', 'VBG'), ('new', 'JJ'), ('meaning', 'NN'), (':', ':'), ('My', 'PRP$'), ('country', 'NN'), (',', ','), (\"'t\", \"''\"), ('thee', 'NN'), (',', ','), ('sweet', 'JJ'), ('land', 'NN'), ('liberty', 'NN'), (',', ','), ('thee', 'NN'), ('I', 'PRP'), ('sing', 'VBP'), ('.', '.')]\n",
            "[('Land', 'NN'), ('fathers', 'NNS'), ('died', 'VBD'), (',', ','), ('land', 'VBP'), ('Pilgrim', 'NNP'), (\"'s\", 'POS'), ('pride', 'NN'), (',', ','), ('From', 'IN'), ('every', 'DT'), ('mountainside', 'NN'), (',', ','), ('let', 'VB'), ('freedom', 'NN'), ('ring', 'NN'), ('!', '.')]\n",
            "[('And', 'CC'), ('America', 'NNP'), ('great', 'JJ'), ('nation', 'NN'), (',', ','), ('must', 'MD'), ('become', 'VB'), ('true', 'JJ'), ('.', '.')]\n",
            "[('And', 'CC'), ('let', 'VB'), ('freedom', 'NN'), ('ring', 'VBG'), ('prodigious', 'JJ'), ('hilltops', 'NNS'), ('New', 'NNP'), ('Hampshire', 'NNP'), ('.', '.')]\n",
            "[('Let', 'VB'), ('freedom', 'NN'), ('ring', 'VBG'), ('mighty', 'NN'), ('mountains', 'VBZ'), ('New', 'NNP'), ('York', 'NNP'), ('.', '.')]\n",
            "[('Let', 'VB'), ('freedom', 'NN'), ('ring', 'VBG'), ('heightening', 'VBG'), ('Alleghenies', 'NNP'), ('Pennsylvania', 'NNP'), ('.', '.')]\n",
            "[('Let', 'VB'), ('freedom', 'NN'), ('ring', 'VBG'), ('snow-capped', 'JJ'), ('Rockies', 'NNPS'), ('Colorado', 'NNP'), ('.', '.')]\n",
            "[('Let', 'VB'), ('freedom', 'NN'), ('ring', 'VBG'), ('curvaceous', 'JJ'), ('slopes', 'NNS'), ('California', 'NNP'), ('.', '.')]\n",
            "[('But', 'CC'), (':', ':'), ('Let', 'VB'), ('freedom', 'NN'), ('ring', 'VBG'), ('Stone', 'NNP'), ('Mountain', 'NNP'), ('Georgia', 'NNP'), ('.', '.')]\n",
            "[('Let', 'VB'), ('freedom', 'NN'), ('ring', 'VBG'), ('Lookout', 'NNP'), ('Mountain', 'NNP'), ('Tennessee', 'NNP'), ('.', '.')]\n",
            "[('Let', 'VB'), ('freedom', 'NN'), ('ring', 'VBG'), ('every', 'DT'), ('hill', 'NN'), ('molehill', 'VBZ'), ('Mississippi', 'NNP'), ('.', '.')]\n",
            "[('From', 'IN'), ('every', 'DT'), ('mountainside', 'NN'), (',', ','), ('let', 'VB'), ('freedom', 'NN'), ('ring', 'NN'), ('.', '.')]\n",
            "[('And', 'CC'), ('happens', 'VBZ'), (',', ','), ('allow', 'VB'), ('freedom', 'NN'), ('ring', 'NN'), (',', ','), ('let', 'VB'), ('ring', 'VBG'), ('every', 'DT'), ('village', 'NN'), ('every', 'DT'), ('hamlet', 'NN'), (',', ','), ('every', 'DT'), ('state', 'NN'), ('every', 'DT'), ('city', 'NN'), (',', ','), ('able', 'JJ'), ('speed', 'NN'), ('day', 'NN'), ('God', 'NNP'), (\"'s\", 'POS'), ('children', 'NNS'), (',', ','), ('black', 'JJ'), ('men', 'NNS'), ('white', 'JJ'), ('men', 'NNS'), (',', ','), ('Jews', 'NNP'), ('Gentiles', 'NNP'), (',', ','), ('Protestants', 'NNPS'), ('Catholics', 'NNPS'), (',', ','), ('able', 'JJ'), ('join', 'NN'), ('hands', 'NNS'), ('sing', 'VBG'), ('words', 'NNS'), ('old', 'JJ'), ('Negro', 'NNP'), ('spiritual', 'NN'), (':', ':'), ('Free', 'JJ'), ('last', 'JJ'), ('!', '.')]\n",
            "[('Free', 'JJ'), ('last', 'JJ'), ('!', '.')]\n",
            "[('Thank', 'NNP'), ('God', 'NNP'), ('Almighty', 'NNP'), (',', ','), ('free', 'JJ'), ('last', 'JJ'), ('!', '.')]\n"
          ]
        }
      ]
    },
    {
      "cell_type": "code",
      "source": [
        "import nltk\n",
        "nltk.download('averaged_perceptron_tagger')\n",
        "nltk.download('punkt')\n",
        "\n",
        "sentences = [\"Taj Mahal is a beautiful Monument\"]\n",
        "words = [nltk.word_tokenize(sent) for sent in sentences] # Tokenize each sentence into words\n",
        "pos_tag = nltk.pos_tag_sents(words)\n",
        "print(pos_tag)"
      ],
      "metadata": {
        "colab": {
          "base_uri": "https://localhost:8080/"
        },
        "id": "uxXwNfJop4xu",
        "outputId": "7aa147b5-aea2-4b1d-b945-e969966106f8"
      },
      "execution_count": 31,
      "outputs": [
        {
          "output_type": "stream",
          "name": "stdout",
          "text": [
            "[[('Taj', 'NNP'), ('Mahal', 'NNP'), ('is', 'VBZ'), ('a', 'DT'), ('beautiful', 'JJ'), ('Monument', 'NN')]]\n"
          ]
        },
        {
          "output_type": "stream",
          "name": "stderr",
          "text": [
            "[nltk_data] Downloading package averaged_perceptron_tagger to\n",
            "[nltk_data]     /root/nltk_data...\n",
            "[nltk_data]   Package averaged_perceptron_tagger is already up-to-\n",
            "[nltk_data]       date!\n",
            "[nltk_data] Downloading package punkt to /root/nltk_data...\n",
            "[nltk_data]   Package punkt is already up-to-date!\n"
          ]
        }
      ]
    },
    {
      "cell_type": "code",
      "source": [
        "nltk.download('averaged_perceptron_tagger')\n",
        "# from nltk.tokenize import word_tokenize # We will not use word_tokenize for character splitting\n",
        "sentence = \"Taj Mahal is a beautiful Monument\"\n",
        "# Split the sentence into characters\n",
        "words = list(sentence) # Convert the string to a list of characters\n",
        "pos_tag = nltk.pos_tag(words)\n",
        "print(pos_tag)"
      ],
      "metadata": {
        "colab": {
          "base_uri": "https://localhost:8080/"
        },
        "id": "S1fPbPFmnfDa",
        "outputId": "4a9d9d19-8110-494e-8653-5fec02044e89"
      },
      "execution_count": 26,
      "outputs": [
        {
          "output_type": "stream",
          "name": "stdout",
          "text": [
            "[('T', 'VB'), ('a', 'DT'), ('j', 'NN'), (' ', 'NNP'), ('M', 'NNP'), ('a', 'DT'), ('h', 'NN'), ('a', 'DT'), ('l', 'NN'), (' ', 'NN'), ('i', 'NN'), ('s', 'VBP'), (' ', 'PDT'), ('a', 'DT'), (' ', 'NN'), ('b', 'NN'), ('e', 'VBZ'), ('a', 'DT'), ('u', 'JJ'), ('t', 'NN'), ('i', 'NN'), ('f', 'VBP'), ('u', 'JJ'), ('l', 'NN'), (' ', 'NNP'), ('M', 'NNP'), ('o', 'MD'), ('n', 'VB'), ('u', 'JJ'), ('m', 'NN'), ('e', 'NN'), ('n', 'NNS'), ('t', 'VBP')]\n"
          ]
        },
        {
          "output_type": "stream",
          "name": "stderr",
          "text": [
            "[nltk_data] Downloading package averaged_perceptron_tagger to\n",
            "[nltk_data]     /root/nltk_data...\n",
            "[nltk_data]   Package averaged_perceptron_tagger is already up-to-\n",
            "[nltk_data]       date!\n"
          ]
        }
      ]
    },
    {
      "cell_type": "code",
      "source": [
        "\"Taj Mahal is a beautiful Monument\".split()"
      ],
      "metadata": {
        "colab": {
          "base_uri": "https://localhost:8080/"
        },
        "id": "mFFh9qcwt0HV",
        "outputId": "6588d5f7-632f-4e1a-b45a-5df521ee0af6"
      },
      "execution_count": 32,
      "outputs": [
        {
          "output_type": "execute_result",
          "data": {
            "text/plain": [
              "['Taj', 'Mahal', 'is', 'a', 'beautiful', 'Monument']"
            ]
          },
          "metadata": {},
          "execution_count": 32
        }
      ]
    },
    {
      "cell_type": "code",
      "source": [
        "import nltk\n",
        "nltk.download('averaged_perceptron_tagger')\n",
        "\n",
        "sentence = \"Taj Mahal is a beautiful Monument\"\n",
        "words = sentence.split() # Split the sentence into a list of words\n",
        "\n",
        "# Now apply pos_tag to the list of words\n",
        "pos_tags = nltk.pos_tag(words)\n",
        "print(pos_tags)"
      ],
      "metadata": {
        "colab": {
          "base_uri": "https://localhost:8080/"
        },
        "id": "u2Z9TjjBtznv",
        "outputId": "6ce08235-5919-4211-c18d-b12b21b329a2"
      },
      "execution_count": 34,
      "outputs": [
        {
          "output_type": "stream",
          "name": "stdout",
          "text": [
            "[('Taj', 'NNP'), ('Mahal', 'NNP'), ('is', 'VBZ'), ('a', 'DT'), ('beautiful', 'JJ'), ('Monument', 'NN')]\n"
          ]
        },
        {
          "output_type": "stream",
          "name": "stderr",
          "text": [
            "[nltk_data] Downloading package averaged_perceptron_tagger to\n",
            "[nltk_data]     /root/nltk_data...\n",
            "[nltk_data]   Package averaged_perceptron_tagger is already up-to-\n",
            "[nltk_data]       date!\n"
          ]
        }
      ]
    },
    {
      "cell_type": "code",
      "source": [],
      "metadata": {
        "id": "l8FK7YyctzIh"
      },
      "execution_count": null,
      "outputs": []
    },
    {
      "cell_type": "code",
      "source": [],
      "metadata": {
        "id": "ygp9DSrXtydH"
      },
      "execution_count": null,
      "outputs": []
    },
    {
      "cell_type": "code",
      "source": [],
      "metadata": {
        "id": "KkEYM7TstyAb"
      },
      "execution_count": null,
      "outputs": []
    },
    {
      "cell_type": "code",
      "source": [],
      "metadata": {
        "id": "T3XQ2tqntxjI"
      },
      "execution_count": null,
      "outputs": []
    },
    {
      "cell_type": "code",
      "source": [],
      "metadata": {
        "id": "6Idf_967txCF"
      },
      "execution_count": null,
      "outputs": []
    },
    {
      "cell_type": "code",
      "source": [],
      "metadata": {
        "id": "lSWtITnRtwcN"
      },
      "execution_count": null,
      "outputs": []
    },
    {
      "cell_type": "code",
      "source": [],
      "metadata": {
        "id": "qwfrwOa5twCI"
      },
      "execution_count": null,
      "outputs": []
    },
    {
      "cell_type": "code",
      "source": [],
      "metadata": {
        "id": "P2ciO6ULtvnr"
      },
      "execution_count": null,
      "outputs": []
    }
  ]
}